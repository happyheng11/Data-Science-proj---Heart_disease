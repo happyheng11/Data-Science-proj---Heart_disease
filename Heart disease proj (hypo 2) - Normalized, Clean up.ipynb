{
 "cells": [
  {
   "cell_type": "code",
   "execution_count": 1,
   "id": "e38b280a",
   "metadata": {},
   "outputs": [
    {
     "name": "stdout",
     "output_type": "stream",
     "text": [
      "Pixiedust database opened successfully\n"
     ]
    },
    {
     "data": {
      "text/html": [
       "\n",
       "        <div style=\"margin:10px\">\n",
       "            <a href=\"https://github.com/ibm-watson-data-lab/pixiedust\" target=\"_new\">\n",
       "                <img src=\"https://github.com/ibm-watson-data-lab/pixiedust/raw/master/docs/_static/pd_icon32.png\" style=\"float:left;margin-right:10px\"/>\n",
       "            </a>\n",
       "            <span>Pixiedust version 1.1.19</span>\n",
       "        </div>\n",
       "        "
      ],
      "text/plain": [
       "<IPython.core.display.HTML object>"
      ]
     },
     "metadata": {},
     "output_type": "display_data"
    }
   ],
   "source": [
    "import pixiedust \n",
    "import sklearn \n",
    "import pandas as pd\n",
    "import numpy as np \n",
    "import seaborn as sns\n",
    "import matplotlib.pyplot as plt\n",
    "import xgboost"
   ]
  },
  {
   "cell_type": "code",
   "execution_count": 2,
   "id": "b580617d",
   "metadata": {},
   "outputs": [],
   "source": [
    "from sklearn.model_selection import train_test_split\n",
    "\n",
    "from sklearn.preprocessing import OneHotEncoder\n",
    "from sklearn.compose import make_column_transformer"
   ]
  },
  {
   "cell_type": "code",
   "execution_count": 3,
   "id": "f77ab601",
   "metadata": {},
   "outputs": [
    {
     "name": "stdout",
     "output_type": "stream",
     "text": [
      "Downloading 'https://raw.githubusercontent.com/happyheng11/Heart_disease_proj/main/preprocessed_heart.csv' from https://raw.githubusercontent.com/happyheng11/Heart_disease_proj/main/preprocessed_heart.csv\n",
      "Downloaded 67790 bytes\n",
      "Creating pandas DataFrame for 'https://raw.githubusercontent.com/happyheng11/Heart_disease_proj/main/preprocessed_heart.csv'. Please wait...\n",
      "Loading file using 'pandas'\n",
      "Successfully created pandas DataFrame for 'https://raw.githubusercontent.com/happyheng11/Heart_disease_proj/main/preprocessed_heart.csv'\n"
     ]
    }
   ],
   "source": [
    "df=pixiedust.sampleData('https://raw.githubusercontent.com/happyheng11/Heart_disease_proj/main/preprocessed_heart.csv')"
   ]
  },
  {
   "cell_type": "code",
   "execution_count": null,
   "id": "3a0fbd06",
   "metadata": {
    "pixiedust": {
     "displayParams": {
      "aggregation": "SUM",
      "chartsize": "70",
      "charttype": "subplots",
      "filter": "{}",
      "handlerId": "barChart",
      "keyFields": "chol_under_200,trestbps_under_120 ,fbs",
      "legend": "true",
      "no_margin": "true",
      "orientation": "vertical",
      "rowCount": "100",
      "sortby": "Keys ASC",
      "stretch": "true",
      "title": "chol,fbs,restbps"
     }
    },
    "scrolled": false
   },
   "outputs": [
    {
     "data": {
      "text/html": [
       "<style type=\"text/css\">.pd_warning{display:none;}</style><div class=\"pd_warning\"><em>Hey, there's something awesome here! To see it, open this notebook outside GitHub, in a viewer like Jupyter</em></div>\n",
       "        <div class=\"pd_save is-viewer-good\" style=\"padding-right:10px;text-align: center;line-height:initial !important;font-size: xx-large;font-weight: 500;color: coral;\">\n",
       "            chol,fbs,restbps\n",
       "        </div>\n",
       "    <div id=\"chartFigure3ffc2413\" class=\"pd_save is-viewer-good\" style=\"overflow-x:auto\">\n",
       "            \n",
       "                    \n",
       "                            <center><img style=\"max-width:initial !important\" src=\"data:image/png;base64,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\" class=\"pd_save\"></center>\n",
       "                        \n",
       "                    \n",
       "                \n",
       "        </div>"
      ],
      "text/plain": [
       "<IPython.core.display.HTML object>"
      ]
     },
     "metadata": {},
     "output_type": "display_data"
    }
   ],
   "source": [
    "display(df)"
   ]
  },
  {
   "cell_type": "code",
   "execution_count": 5,
   "id": "ff6ef34e",
   "metadata": {},
   "outputs": [
    {
     "name": "stdout",
     "output_type": "stream",
     "text": [
      "      age  sex  cp  trestbps  chol  fbs  restecg  thalach  exang  oldpeak  \\\n",
      "0      52    1   0       125   212    0        1      168      0      1.0   \n",
      "1      53    1   0       140   203    1        0      155      1      3.1   \n",
      "2      70    1   0       145   174    0        1      125      1      2.6   \n",
      "3      61    1   0       148   203    0        1      161      0      0.0   \n",
      "4      62    0   0       138   294    1        1      106      0      1.9   \n",
      "...   ...  ...  ..       ...   ...  ...      ...      ...    ...      ...   \n",
      "1020   59    1   1       140   221    0        1      164      1      0.0   \n",
      "1021   60    1   0       125   258    0        0      141      1      2.8   \n",
      "1022   47    1   0       110   275    0        0      118      1      1.0   \n",
      "1023   50    0   0       110   254    0        0      159      0      0.0   \n",
      "1024   54    1   0       120   188    0        1      113      0      1.4   \n",
      "\n",
      "      ...  ca  thal  target       age group cp_True  trestbps_under_130   \\\n",
      "0     ...   2     3       0  50_TO_UNDER_60       0                    1   \n",
      "1     ...   0     3       0  50_TO_UNDER_60       0                    0   \n",
      "2     ...   0     3       0      70_&_ABOVE       0                    0   \n",
      "3     ...   1     3       0  60_TO_UNDER_70       0                    0   \n",
      "4     ...   3     2       0  60_TO_UNDER_70       0                    0   \n",
      "...   ...  ..   ...     ...             ...     ...                  ...   \n",
      "1020  ...   0     2       1  50_TO_UNDER_60       1                    0   \n",
      "1021  ...   1     3       0  60_TO_UNDER_70       0                    1   \n",
      "1022  ...   1     2       0  40_TO_UNDER_50       0                    1   \n",
      "1023  ...   0     2       1  50_TO_UNDER_60       0                    1   \n",
      "1024  ...   1     3       0  50_TO_UNDER_60       0                    1   \n",
      "\n",
      "      chol_under_200  chol_bps_fbs_HIGH  max_healthyHR  \\\n",
      "0                  0                  0            168   \n",
      "1                  0                  1            167   \n",
      "2                  1                  0            150   \n",
      "3                  0                  0            159   \n",
      "4                  0                  1            158   \n",
      "...              ...                ...            ...   \n",
      "1020               0                  0            161   \n",
      "1021               0                  0            160   \n",
      "1022               0                  0            173   \n",
      "1023               0                  0            170   \n",
      "1024               1                  0            166   \n",
      "\n",
      "      thalach_under_maxhealthHR  \n",
      "0                             1  \n",
      "1                             1  \n",
      "2                             1  \n",
      "3                             0  \n",
      "4                             1  \n",
      "...                         ...  \n",
      "1020                          0  \n",
      "1021                          1  \n",
      "1022                          1  \n",
      "1023                          1  \n",
      "1024                          1  \n",
      "\n",
      "[1025 rows x 21 columns]\n"
     ]
    }
   ],
   "source": [
    "path = 'https://raw.githubusercontent.com/happyheng11/Heart_disease_proj/main/preprocessed_heart.csv'\n",
    "df1 = pd.read_csv(path) \n",
    "print(df1)"
   ]
  },
  {
   "cell_type": "code",
   "execution_count": 6,
   "id": "c275bf3a",
   "metadata": {},
   "outputs": [
    {
     "data": {
      "text/plain": [
       "<AxesSubplot:xlabel='age', ylabel='Count'>"
      ]
     },
     "execution_count": 6,
     "metadata": {},
     "output_type": "execute_result"
    },
    {
     "data": {
      "image/png": "[encoded data removed]",
      "text/plain": [
       "<Figure size 720x432 with 1 Axes>"
      ]
     },
     "metadata": {
      "needs_background": "light"
     },
     "output_type": "display_data"
    }
   ],
   "source": [
    "# using seaborn to plot histogram for diff attributes - such as 'age' etc\n",
    "plt.figure(figsize = (10,6))\n",
    "sns.histplot(df1['age'], binwidth = 1)"
   ]
  },
  {
   "cell_type": "code",
   "execution_count": 11,
   "id": "7424cd59",
   "metadata": {},
   "outputs": [],
   "source": [
    "# make copy of df for modification\n",
    "dfcopy = df.copy()\n",
    "\n",
    "# remove target as y matrix from the dfcopy dataframe\n",
    "y = dfcopy.pop('target')\n",
    "\n",
    "# make remaining matrix as X\n",
    "X = dfcopy"
   ]
  },
  {
   "cell_type": "code",
   "execution_count": 12,
   "id": "267a3aa1",
   "metadata": {},
   "outputs": [
    {
     "name": "stdout",
     "output_type": "stream",
     "text": [
      "0    0\n",
      "1    0\n",
      "2    0\n",
      "3    0\n",
      "4    0\n",
      "Name: target, dtype: int64\n"
     ]
    }
   ],
   "source": [
    "print(y.head())"
   ]
  },
  {
   "cell_type": "code",
   "execution_count": 13,
   "id": "ff7bafff",
   "metadata": {},
   "outputs": [
    {
     "name": "stdout",
     "output_type": "stream",
     "text": [
      "   age  sex  cp  trestbps  chol  fbs  restecg  thalach  exang  oldpeak  slope  \\\n",
      "0   52    1   0       125   212    0        1      168      0      1.0      2   \n",
      "1   53    1   0       140   203    1        0      155      1      3.1      0   \n",
      "2   70    1   0       145   174    0        1      125      1      2.6      0   \n",
      "3   61    1   0       148   203    0        1      161      0      0.0      2   \n",
      "4   62    0   0       138   294    1        1      106      0      1.9      1   \n",
      "\n",
      "   ca  thal       age group  cp_True  trestbps_under_130   chol_under_200  \\\n",
      "0   2     3  50_TO_UNDER_60        0                    1               0   \n",
      "1   0     3  50_TO_UNDER_60        0                    0               0   \n",
      "2   0     3      70_&_ABOVE        0                    0               1   \n",
      "3   1     3  60_TO_UNDER_70        0                    0               0   \n",
      "4   3     2  60_TO_UNDER_70        0                    0               0   \n",
      "\n",
      "   chol_bps_fbs_HIGH  max_healthyHR  thalach_under_maxhealthHR  \n",
      "0                  0            168                          1  \n",
      "1                  1            167                          1  \n",
      "2                  0            150                          1  \n",
      "3                  0            159                          0  \n",
      "4                  1            158                          1  \n"
     ]
    }
   ],
   "source": [
    "print(X.head())"
   ]
  },
  {
   "cell_type": "code",
   "execution_count": 14,
   "id": "57ef88a6",
   "metadata": {},
   "outputs": [
    {
     "name": "stdout",
     "output_type": "stream",
     "text": [
      "(1025,)\n"
     ]
    }
   ],
   "source": [
    "print(y.shape)"
   ]
  },
  {
   "cell_type": "code",
   "execution_count": 15,
   "id": "dd7bbc16",
   "metadata": {},
   "outputs": [
    {
     "name": "stdout",
     "output_type": "stream",
     "text": [
      "(1025, 20)\n"
     ]
    }
   ],
   "source": [
    "print(X.shape)"
   ]
  },
  {
   "cell_type": "code",
   "execution_count": 16,
   "id": "50c8a4f7",
   "metadata": {},
   "outputs": [
    {
     "data": {
      "text/plain": [
       "age                            int64\n",
       "sex                            int64\n",
       "cp                             int64\n",
       "trestbps                       int64\n",
       "chol                           int64\n",
       "fbs                            int64\n",
       "restecg                        int64\n",
       "thalach                        int64\n",
       "exang                          int64\n",
       "oldpeak                      float64\n",
       "slope                          int64\n",
       "ca                             int64\n",
       "thal                           int64\n",
       "age group                     object\n",
       "cp_True                        int64\n",
       "trestbps_under_130             int64\n",
       "chol_under_200                 int64\n",
       "chol_bps_fbs_HIGH              int64\n",
       "max_healthyHR                  int64\n",
       "thalach_under_maxhealthHR      int64\n",
       "dtype: object"
      ]
     },
     "execution_count": 16,
     "metadata": {},
     "output_type": "execute_result"
    }
   ],
   "source": [
    "# look at the types for the diff columns\n",
    "X.dtypes"
   ]
  },
  {
   "cell_type": "code",
   "execution_count": 17,
   "id": "be90971c",
   "metadata": {},
   "outputs": [],
   "source": [
    "# perform scaling / normalization / standardization via running this cell, as necessary \n",
    "\n",
    "# min-max scaling:\n",
    "\n",
    "from sklearn.preprocessing import MinMaxScaler\n",
    "\n",
    "mms = MinMaxScaler()\n",
    "\n",
    "X[['age', 'trestbps', 'chol', 'thalach', 'oldpeak', 'slope', 'ca', 'thal', 'max_healthyHR']] = mms.fit_transform(X[['age', 'trestbps', 'chol', 'thalach', 'oldpeak', 'slope', 'ca', 'thal', 'max_healthyHR']])"
   ]
  },
  {
   "cell_type": "code",
   "execution_count": 18,
   "id": "2bfdd5e7",
   "metadata": {},
   "outputs": [
    {
     "data": {
      "text/html": [
       "<div>\n",
       "<style scoped>\n",
       "    .dataframe tbody tr th:only-of-type {\n",
       "        vertical-align: middle;\n",
       "    }\n",
       "\n",
       "    .dataframe tbody tr th {\n",
       "        vertical-align: top;\n",
       "    }\n",
       "\n",
       "    .dataframe thead th {\n",
       "        text-align: right;\n",
       "    }\n",
       "</style>\n",
       "<table border=\"1\" class=\"dataframe\">\n",
       "  <thead>\n",
       "    <tr style=\"text-align: right;\">\n",
       "      <th></th>\n",
       "      <th>age</th>\n",
       "      <th>sex</th>\n",
       "      <th>cp</th>\n",
       "      <th>trestbps</th>\n",
       "      <th>chol</th>\n",
       "      <th>fbs</th>\n",
       "      <th>restecg</th>\n",
       "      <th>thalach</th>\n",
       "      <th>exang</th>\n",
       "      <th>oldpeak</th>\n",
       "      <th>slope</th>\n",
       "      <th>ca</th>\n",
       "      <th>thal</th>\n",
       "      <th>age group</th>\n",
       "      <th>cp_True</th>\n",
       "      <th>trestbps_under_130</th>\n",
       "      <th>chol_under_200</th>\n",
       "      <th>chol_bps_fbs_HIGH</th>\n",
       "      <th>max_healthyHR</th>\n",
       "      <th>thalach_under_maxhealthHR</th>\n",
       "    </tr>\n",
       "  </thead>\n",
       "  <tbody>\n",
       "    <tr>\n",
       "      <th>0</th>\n",
       "      <td>0.479167</td>\n",
       "      <td>1</td>\n",
       "      <td>0</td>\n",
       "      <td>0.292453</td>\n",
       "      <td>0.196347</td>\n",
       "      <td>0</td>\n",
       "      <td>1</td>\n",
       "      <td>0.740458</td>\n",
       "      <td>0</td>\n",
       "      <td>0.161290</td>\n",
       "      <td>1.0</td>\n",
       "      <td>0.50</td>\n",
       "      <td>1.000000</td>\n",
       "      <td>50_TO_UNDER_60</td>\n",
       "      <td>0</td>\n",
       "      <td>1</td>\n",
       "      <td>0</td>\n",
       "      <td>0</td>\n",
       "      <td>0.520833</td>\n",
       "      <td>1</td>\n",
       "    </tr>\n",
       "    <tr>\n",
       "      <th>1</th>\n",
       "      <td>0.500000</td>\n",
       "      <td>1</td>\n",
       "      <td>0</td>\n",
       "      <td>0.433962</td>\n",
       "      <td>0.175799</td>\n",
       "      <td>1</td>\n",
       "      <td>0</td>\n",
       "      <td>0.641221</td>\n",
       "      <td>1</td>\n",
       "      <td>0.500000</td>\n",
       "      <td>0.0</td>\n",
       "      <td>0.00</td>\n",
       "      <td>1.000000</td>\n",
       "      <td>50_TO_UNDER_60</td>\n",
       "      <td>0</td>\n",
       "      <td>0</td>\n",
       "      <td>0</td>\n",
       "      <td>1</td>\n",
       "      <td>0.500000</td>\n",
       "      <td>1</td>\n",
       "    </tr>\n",
       "    <tr>\n",
       "      <th>2</th>\n",
       "      <td>0.854167</td>\n",
       "      <td>1</td>\n",
       "      <td>0</td>\n",
       "      <td>0.481132</td>\n",
       "      <td>0.109589</td>\n",
       "      <td>0</td>\n",
       "      <td>1</td>\n",
       "      <td>0.412214</td>\n",
       "      <td>1</td>\n",
       "      <td>0.419355</td>\n",
       "      <td>0.0</td>\n",
       "      <td>0.00</td>\n",
       "      <td>1.000000</td>\n",
       "      <td>70_&amp;_ABOVE</td>\n",
       "      <td>0</td>\n",
       "      <td>0</td>\n",
       "      <td>1</td>\n",
       "      <td>0</td>\n",
       "      <td>0.145833</td>\n",
       "      <td>1</td>\n",
       "    </tr>\n",
       "    <tr>\n",
       "      <th>3</th>\n",
       "      <td>0.666667</td>\n",
       "      <td>1</td>\n",
       "      <td>0</td>\n",
       "      <td>0.509434</td>\n",
       "      <td>0.175799</td>\n",
       "      <td>0</td>\n",
       "      <td>1</td>\n",
       "      <td>0.687023</td>\n",
       "      <td>0</td>\n",
       "      <td>0.000000</td>\n",
       "      <td>1.0</td>\n",
       "      <td>0.25</td>\n",
       "      <td>1.000000</td>\n",
       "      <td>60_TO_UNDER_70</td>\n",
       "      <td>0</td>\n",
       "      <td>0</td>\n",
       "      <td>0</td>\n",
       "      <td>0</td>\n",
       "      <td>0.333333</td>\n",
       "      <td>0</td>\n",
       "    </tr>\n",
       "    <tr>\n",
       "      <th>4</th>\n",
       "      <td>0.687500</td>\n",
       "      <td>0</td>\n",
       "      <td>0</td>\n",
       "      <td>0.415094</td>\n",
       "      <td>0.383562</td>\n",
       "      <td>1</td>\n",
       "      <td>1</td>\n",
       "      <td>0.267176</td>\n",
       "      <td>0</td>\n",
       "      <td>0.306452</td>\n",
       "      <td>0.5</td>\n",
       "      <td>0.75</td>\n",
       "      <td>0.666667</td>\n",
       "      <td>60_TO_UNDER_70</td>\n",
       "      <td>0</td>\n",
       "      <td>0</td>\n",
       "      <td>0</td>\n",
       "      <td>1</td>\n",
       "      <td>0.312500</td>\n",
       "      <td>1</td>\n",
       "    </tr>\n",
       "    <tr>\n",
       "      <th>...</th>\n",
       "      <td>...</td>\n",
       "      <td>...</td>\n",
       "      <td>...</td>\n",
       "      <td>...</td>\n",
       "      <td>...</td>\n",
       "      <td>...</td>\n",
       "      <td>...</td>\n",
       "      <td>...</td>\n",
       "      <td>...</td>\n",
       "      <td>...</td>\n",
       "      <td>...</td>\n",
       "      <td>...</td>\n",
       "      <td>...</td>\n",
       "      <td>...</td>\n",
       "      <td>...</td>\n",
       "      <td>...</td>\n",
       "      <td>...</td>\n",
       "      <td>...</td>\n",
       "      <td>...</td>\n",
       "      <td>...</td>\n",
       "    </tr>\n",
       "    <tr>\n",
       "      <th>1020</th>\n",
       "      <td>0.625000</td>\n",
       "      <td>1</td>\n",
       "      <td>1</td>\n",
       "      <td>0.433962</td>\n",
       "      <td>0.216895</td>\n",
       "      <td>0</td>\n",
       "      <td>1</td>\n",
       "      <td>0.709924</td>\n",
       "      <td>1</td>\n",
       "      <td>0.000000</td>\n",
       "      <td>1.0</td>\n",
       "      <td>0.00</td>\n",
       "      <td>0.666667</td>\n",
       "      <td>50_TO_UNDER_60</td>\n",
       "      <td>1</td>\n",
       "      <td>0</td>\n",
       "      <td>0</td>\n",
       "      <td>0</td>\n",
       "      <td>0.375000</td>\n",
       "      <td>0</td>\n",
       "    </tr>\n",
       "    <tr>\n",
       "      <th>1021</th>\n",
       "      <td>0.645833</td>\n",
       "      <td>1</td>\n",
       "      <td>0</td>\n",
       "      <td>0.292453</td>\n",
       "      <td>0.301370</td>\n",
       "      <td>0</td>\n",
       "      <td>0</td>\n",
       "      <td>0.534351</td>\n",
       "      <td>1</td>\n",
       "      <td>0.451613</td>\n",
       "      <td>0.5</td>\n",
       "      <td>0.25</td>\n",
       "      <td>1.000000</td>\n",
       "      <td>60_TO_UNDER_70</td>\n",
       "      <td>0</td>\n",
       "      <td>1</td>\n",
       "      <td>0</td>\n",
       "      <td>0</td>\n",
       "      <td>0.354167</td>\n",
       "      <td>1</td>\n",
       "    </tr>\n",
       "    <tr>\n",
       "      <th>1022</th>\n",
       "      <td>0.375000</td>\n",
       "      <td>1</td>\n",
       "      <td>0</td>\n",
       "      <td>0.150943</td>\n",
       "      <td>0.340183</td>\n",
       "      <td>0</td>\n",
       "      <td>0</td>\n",
       "      <td>0.358779</td>\n",
       "      <td>1</td>\n",
       "      <td>0.161290</td>\n",
       "      <td>0.5</td>\n",
       "      <td>0.25</td>\n",
       "      <td>0.666667</td>\n",
       "      <td>40_TO_UNDER_50</td>\n",
       "      <td>0</td>\n",
       "      <td>1</td>\n",
       "      <td>0</td>\n",
       "      <td>0</td>\n",
       "      <td>0.625000</td>\n",
       "      <td>1</td>\n",
       "    </tr>\n",
       "    <tr>\n",
       "      <th>1023</th>\n",
       "      <td>0.437500</td>\n",
       "      <td>0</td>\n",
       "      <td>0</td>\n",
       "      <td>0.150943</td>\n",
       "      <td>0.292237</td>\n",
       "      <td>0</td>\n",
       "      <td>0</td>\n",
       "      <td>0.671756</td>\n",
       "      <td>0</td>\n",
       "      <td>0.000000</td>\n",
       "      <td>1.0</td>\n",
       "      <td>0.00</td>\n",
       "      <td>0.666667</td>\n",
       "      <td>50_TO_UNDER_60</td>\n",
       "      <td>0</td>\n",
       "      <td>1</td>\n",
       "      <td>0</td>\n",
       "      <td>0</td>\n",
       "      <td>0.562500</td>\n",
       "      <td>1</td>\n",
       "    </tr>\n",
       "    <tr>\n",
       "      <th>1024</th>\n",
       "      <td>0.520833</td>\n",
       "      <td>1</td>\n",
       "      <td>0</td>\n",
       "      <td>0.245283</td>\n",
       "      <td>0.141553</td>\n",
       "      <td>0</td>\n",
       "      <td>1</td>\n",
       "      <td>0.320611</td>\n",
       "      <td>0</td>\n",
       "      <td>0.225806</td>\n",
       "      <td>0.5</td>\n",
       "      <td>0.25</td>\n",
       "      <td>1.000000</td>\n",
       "      <td>50_TO_UNDER_60</td>\n",
       "      <td>0</td>\n",
       "      <td>1</td>\n",
       "      <td>1</td>\n",
       "      <td>0</td>\n",
       "      <td>0.479167</td>\n",
       "      <td>1</td>\n",
       "    </tr>\n",
       "  </tbody>\n",
       "</table>\n",
       "<p>1025 rows × 20 columns</p>\n",
       "</div>"
      ],
      "text/plain": [
       "           age  sex  cp  trestbps      chol  fbs  restecg   thalach  exang  \\\n",
       "0     0.479167    1   0  0.292453  0.196347    0        1  0.740458      0   \n",
       "1     0.500000    1   0  0.433962  0.175799    1        0  0.641221      1   \n",
       "2     0.854167    1   0  0.481132  0.109589    0        1  0.412214      1   \n",
       "3     0.666667    1   0  0.509434  0.175799    0        1  0.687023      0   \n",
       "4     0.687500    0   0  0.415094  0.383562    1        1  0.267176      0   \n",
       "...        ...  ...  ..       ...       ...  ...      ...       ...    ...   \n",
       "1020  0.625000    1   1  0.433962  0.216895    0        1  0.709924      1   \n",
       "1021  0.645833    1   0  0.292453  0.301370    0        0  0.534351      1   \n",
       "1022  0.375000    1   0  0.150943  0.340183    0        0  0.358779      1   \n",
       "1023  0.437500    0   0  0.150943  0.292237    0        0  0.671756      0   \n",
       "1024  0.520833    1   0  0.245283  0.141553    0        1  0.320611      0   \n",
       "\n",
       "       oldpeak  slope    ca      thal       age group  cp_True  \\\n",
       "0     0.161290    1.0  0.50  1.000000  50_TO_UNDER_60        0   \n",
       "1     0.500000    0.0  0.00  1.000000  50_TO_UNDER_60        0   \n",
       "2     0.419355    0.0  0.00  1.000000      70_&_ABOVE        0   \n",
       "3     0.000000    1.0  0.25  1.000000  60_TO_UNDER_70        0   \n",
       "4     0.306452    0.5  0.75  0.666667  60_TO_UNDER_70        0   \n",
       "...        ...    ...   ...       ...             ...      ...   \n",
       "1020  0.000000    1.0  0.00  0.666667  50_TO_UNDER_60        1   \n",
       "1021  0.451613    0.5  0.25  1.000000  60_TO_UNDER_70        0   \n",
       "1022  0.161290    0.5  0.25  0.666667  40_TO_UNDER_50        0   \n",
       "1023  0.000000    1.0  0.00  0.666667  50_TO_UNDER_60        0   \n",
       "1024  0.225806    0.5  0.25  1.000000  50_TO_UNDER_60        0   \n",
       "\n",
       "      trestbps_under_130   chol_under_200  chol_bps_fbs_HIGH  max_healthyHR  \\\n",
       "0                       1               0                  0       0.520833   \n",
       "1                       0               0                  1       0.500000   \n",
       "2                       0               1                  0       0.145833   \n",
       "3                       0               0                  0       0.333333   \n",
       "4                       0               0                  1       0.312500   \n",
       "...                   ...             ...                ...            ...   \n",
       "1020                    0               0                  0       0.375000   \n",
       "1021                    1               0                  0       0.354167   \n",
       "1022                    1               0                  0       0.625000   \n",
       "1023                    1               0                  0       0.562500   \n",
       "1024                    1               1                  0       0.479167   \n",
       "\n",
       "      thalach_under_maxhealthHR  \n",
       "0                             1  \n",
       "1                             1  \n",
       "2                             1  \n",
       "3                             0  \n",
       "4                             1  \n",
       "...                         ...  \n",
       "1020                          0  \n",
       "1021                          1  \n",
       "1022                          1  \n",
       "1023                          1  \n",
       "1024                          1  \n",
       "\n",
       "[1025 rows x 20 columns]"
      ]
     },
     "execution_count": 18,
     "metadata": {},
     "output_type": "execute_result"
    }
   ],
   "source": [
    "X"
   ]
  },
  {
   "cell_type": "code",
   "execution_count": 19,
   "id": "5101e116",
   "metadata": {},
   "outputs": [
    {
     "name": "stdout",
     "output_type": "stream",
     "text": [
      "           age  sex  cp  trestbps      chol  fbs  restecg   thalach  exang  \\\n",
      "315   0.270833    1   3  0.509434  0.269406    0        0  0.816794      0   \n",
      "204   0.770833    0   2  0.490566  0.347032    0        0  0.618321      0   \n",
      "363   0.500000    1   2  0.339623  0.273973    1        0  0.778626      0   \n",
      "5     0.604167    0   0  0.056604  0.278539    0        0  0.389313      0   \n",
      "1017  0.500000    1   0  0.273585  0.356164    0        1  0.183206      1   \n",
      "...        ...  ...  ..       ...       ...  ...      ...       ...    ...   \n",
      "835   0.416667    1   2  0.226415  0.052511    0        0  0.419847      0   \n",
      "192   0.791667    0   2  0.198113  1.000000    0        0  0.679389      0   \n",
      "629   0.750000    1   3  0.415094  0.356164    1        0  0.786260      0   \n",
      "559   0.791667    1   0  0.245283  0.253425    0        1  0.000000      0   \n",
      "684   0.645833    1   2  0.433962  0.134703    0        0  0.641221      0   \n",
      "\n",
      "       oldpeak  slope    ca      thal       age group  cp_True  \\\n",
      "315   0.129032    1.0  0.50  0.666667  40_TO_UNDER_50        1   \n",
      "204   0.000000    0.5  0.25  0.666667  60_TO_UNDER_70        1   \n",
      "363   0.000000    1.0  0.75  0.666667  50_TO_UNDER_60        1   \n",
      "5     0.161290    0.5  0.00  0.666667  50_TO_UNDER_60        0   \n",
      "1017  0.322581    0.5  0.50  1.000000  50_TO_UNDER_60        0   \n",
      "...        ...    ...   ...       ...             ...      ...   \n",
      "835   0.129032    1.0  0.75  0.666667  40_TO_UNDER_50        1   \n",
      "192   0.258065    0.5  0.00  1.000000  60_TO_UNDER_70        1   \n",
      "629   0.225806    0.5  0.25  0.666667  60_TO_UNDER_70        1   \n",
      "559   0.161290    0.5  0.00  0.666667  60_TO_UNDER_70        0   \n",
      "684   0.483871    0.5  0.00  0.666667  60_TO_UNDER_70        1   \n",
      "\n",
      "      trestbps_under_130   chol_under_200  chol_bps_fbs_HIGH  max_healthyHR  \\\n",
      "315                     0               0                  0       0.729167   \n",
      "204                     0               0                  0       0.229167   \n",
      "363                     0               0                  1       0.500000   \n",
      "5                       1               0                  0       0.395833   \n",
      "1017                    1               0                  0       0.500000   \n",
      "...                   ...             ...                ...            ...   \n",
      "835                     1               1                  0       0.583333   \n",
      "192                     1               0                  0       0.208333   \n",
      "629                     0               0                  1       0.250000   \n",
      "559                     1               0                  0       0.208333   \n",
      "684                     0               1                  0       0.354167   \n",
      "\n",
      "      thalach_under_maxhealthHR  \n",
      "315                           1  \n",
      "204                           1  \n",
      "363                           0  \n",
      "5                             1  \n",
      "1017                          1  \n",
      "...                         ...  \n",
      "835                           1  \n",
      "192                           0  \n",
      "629                           0  \n",
      "559                           1  \n",
      "684                           1  \n",
      "\n",
      "[820 rows x 20 columns]\n",
      "          age  sex  cp  trestbps      chol  fbs  restecg   thalach  exang  \\\n",
      "807  0.312500    1   2  0.339623  0.244292    0        1  0.824427      1   \n",
      "27   0.604167    0   1  0.396226  0.440639    1        0  0.618321      0   \n",
      "77   0.708333    1   0  0.433962  0.139269    0        0  0.557252      1   \n",
      "406  0.604167    1   2  0.433962  0.194064    1        0  0.717557      0   \n",
      "886  0.666667    1   0  0.245283  0.305936    0        1  0.526718      1   \n",
      "..        ...  ...  ..       ...       ...  ...      ...       ...    ...   \n",
      "877  0.291667    0   2  0.264151  0.198630    0        1  0.717557      0   \n",
      "320  0.500000    0   0  0.339623  0.315068    0        0  0.549618      0   \n",
      "362  0.291667    0   2  0.264151  0.198630    0        1  0.717557      0   \n",
      "452  0.770833    0   0  0.792453  0.232877    1        1  0.717557      1   \n",
      "500  0.875000    0   0  0.169811  0.052511    0        1  0.412214      0   \n",
      "\n",
      "      oldpeak  slope    ca      thal       age group  cp_True  \\\n",
      "807  0.064516    1.0  0.00  0.666667  40_TO_UNDER_50        1   \n",
      "27   0.000000    1.0  0.50  0.666667  50_TO_UNDER_60        1   \n",
      "77   0.645161    1.0  0.50  1.000000  60_TO_UNDER_70        0   \n",
      "406  0.000000    1.0  0.00  0.666667  50_TO_UNDER_60        1   \n",
      "886  0.580645    0.5  0.25  1.000000  60_TO_UNDER_70        0   \n",
      "..        ...    ...   ...       ...             ...      ...   \n",
      "877  0.032258    0.5  0.00  0.666667  40_TO_UNDER_50        1   \n",
      "320  0.064516    0.5  0.00  0.666667  50_TO_UNDER_60        0   \n",
      "362  0.032258    0.5  0.00  0.666667  40_TO_UNDER_50        1   \n",
      "452  0.161290    0.5  0.50  1.000000  60_TO_UNDER_70        0   \n",
      "500  0.258065    0.5  0.00  0.666667      70_&_ABOVE        0   \n",
      "\n",
      "     trestbps_under_130   chol_under_200  chol_bps_fbs_HIGH  max_healthyHR  \\\n",
      "807                    0               0                  0       0.687500   \n",
      "27                     0               0                  1       0.395833   \n",
      "77                     0               1                  0       0.291667   \n",
      "406                    0               0                  1       0.395833   \n",
      "886                    1               0                  0       0.333333   \n",
      "..                   ...             ...                ...            ...   \n",
      "877                    1               0                  0       0.708333   \n",
      "320                    0               0                  0       0.500000   \n",
      "362                    1               0                  0       0.708333   \n",
      "452                    0               0                  1       0.229167   \n",
      "500                    1               1                  0       0.125000   \n",
      "\n",
      "     thalach_under_maxhealthHR  \n",
      "807                          0  \n",
      "27                           1  \n",
      "77                           1  \n",
      "406                          0  \n",
      "886                          1  \n",
      "..                         ...  \n",
      "877                          1  \n",
      "320                          1  \n",
      "362                          1  \n",
      "452                          0  \n",
      "500                          1  \n",
      "\n",
      "[205 rows x 20 columns]\n",
      "315     1\n",
      "204     1\n",
      "363     1\n",
      "5       1\n",
      "1017    0\n",
      "       ..\n",
      "835     0\n",
      "192     1\n",
      "629     0\n",
      "559     0\n",
      "684     0\n",
      "Name: target, Length: 820, dtype: int64\n",
      "807    1\n",
      "27     0\n",
      "77     0\n",
      "406    1\n",
      "886    0\n",
      "      ..\n",
      "877    1\n",
      "320    1\n",
      "362    1\n",
      "452    0\n",
      "500    1\n",
      "Name: target, Length: 205, dtype: int64\n"
     ]
    }
   ],
   "source": [
    "# split train test sets\n",
    "X_train, X_test, y_train, y_test = train_test_split(X, y, train_size=0.8, test_size=0.2, random_state=0)\n",
    "print(X_train)\n",
    "print(X_test)\n",
    "print(y_train)\n",
    "print(y_test)"
   ]
  },
  {
   "cell_type": "code",
   "execution_count": 21,
   "id": "c2a42f48",
   "metadata": {},
   "outputs": [
    {
     "name": "stdout",
     "output_type": "stream",
     "text": [
      "      chol_bps_fbs_HIGH\n",
      "315                   0\n",
      "204                   0\n",
      "363                   1\n",
      "5                     0\n",
      "1017                  0\n",
      "...                 ...\n",
      "835                   0\n",
      "192                   0\n",
      "629                   1\n",
      "559                   0\n",
      "684                   0\n",
      "\n",
      "[820 rows x 1 columns]\n",
      "     chol_bps_fbs_HIGH\n",
      "807                  0\n",
      "27                   1\n",
      "77                   0\n",
      "406                  1\n",
      "886                  0\n",
      "..                 ...\n",
      "877                  0\n",
      "320                  0\n",
      "362                  0\n",
      "452                  1\n",
      "500                  0\n",
      "\n",
      "[205 rows x 1 columns]\n"
     ]
    }
   ],
   "source": [
    "# select the columns that you want in the transformed_Xtrain and transformed_Xtest\n",
    "transformed_Xtrain = X_train[['chol_bps_fbs_HIGH']]\n",
    "transformed_Xtest = X_test[['chol_bps_fbs_HIGH']]\n",
    "\n",
    "print(transformed_Xtrain)\n",
    "print(transformed_Xtest)"
   ]
  },
  {
   "cell_type": "code",
   "execution_count": 22,
   "id": "5cbc015a",
   "metadata": {},
   "outputs": [
    {
     "data": {
      "text/plain": [
       "XGBClassifier(base_score=0.5, booster='gbtree', callbacks=None,\n",
       "              colsample_bylevel=1, colsample_bynode=1, colsample_bytree=1,\n",
       "              early_stopping_rounds=None, enable_categorical=False,\n",
       "              eval_metric=None, gamma=0, gpu_id=-1, grow_policy='depthwise',\n",
       "              importance_type=None, interaction_constraints='',\n",
       "              learning_rate=0.300000012, max_bin=256, max_cat_to_onehot=4,\n",
       "              max_delta_step=0, max_depth=6, max_leaves=0, min_child_weight=1,\n",
       "              missing=nan, monotone_constraints='()', n_estimators=100,\n",
       "              n_jobs=0, num_parallel_tree=1, predictor='auto', random_state=0,\n",
       "              reg_alpha=0, reg_lambda=1, ...)"
      ]
     },
     "execution_count": 22,
     "metadata": {},
     "output_type": "execute_result"
    }
   ],
   "source": [
    "# select the type of model\n",
    "# Uncomment the lines of code for the model that you want to select\n",
    "\n",
    "from xgboost import XGBRegressor\n",
    "from xgboost import XGBClassifier\n",
    "from sklearn.ensemble import RandomForestClassifier\n",
    "from sklearn.ensemble import RandomForestRegressor\n",
    "from sklearn import svm\n",
    "from sklearn.neighbors import KNeighborsClassifier\n",
    "from sklearn.linear_model import LogisticRegression\n",
    "\n",
    "'''\n",
    "# XGBoost Regressor (for regression use - ie. quantitative)\n",
    "#model = XGBRegressor()\n",
    "'''\n",
    "# XGBoost Classifier\n",
    "model = XGBClassifier()\n",
    "\n",
    "'''\n",
    "# Random Forest Classifier\n",
    "#model = RandomForestClassifier()\n",
    "\n",
    "# Random Forest Regressor (for regression use - ie. quantitative)\n",
    "#model = RandomForestRegressor()\n",
    "\n",
    "# SVC\n",
    "#model = svm.SVC()\n",
    "\n",
    "# K Nearest Neighbors Classifier \n",
    "#model = KNeighborsClassifier(n_neighbors=1)\n",
    "\n",
    "# Logistic Regression\n",
    "#model = LogisticRegression()\n",
    "\n",
    "# for single feature in transformed_X, it needs to be reshaped for the model to work\n",
    "#transformed_Xtrain = transformed_Xtrain.values.reshape(-1,1)\n",
    "#transformed_Xtest = transformed_Xtest.values.reshape(-1,1)\n",
    "'''\n",
    "\n",
    "\n",
    "model.fit(transformed_Xtrain, y_train)"
   ]
  },
  {
   "cell_type": "code",
   "execution_count": 26,
   "id": "90b894d5",
   "metadata": {},
   "outputs": [
    {
     "name": "stdout",
     "output_type": "stream",
     "text": [
      "[1 0 1 0 1 0 1 1 1 1 1 1 1 1 1 1 1 1 1 1 1 1 1 1 1 1 1 1 0 1 1 1 1 1 1 1 1\n",
      " 1 1 1 1 1 1 1 1 1 1 1 1 1 1 1 1 1 1 1 1 1 1 0 1 1 1 1 1 1 1 1 1 1 1 1 1 0\n",
      " 1 1 1 1 1 1 1 1 1 1 1 1 1 1 0 1 1 1 1 1 1 1 1 1 1 1 1 1 1 1 1 1 0 1 1 1 1\n",
      " 1 1 1 1 0 1 1 1 1 0 1 1 1 1 1 1 1 1 1 1 1 1 1 0 1 1 1 0 1 1 1 1 1 1 1 0 1\n",
      " 0 1 1 1 1 1 1 1 1 1 0 1 1 1 1 1 1 1 1 1 1 1 1 1 1 1 1 1 1 1 1 1 1 1 1 1 1\n",
      " 1 1 0 1 1 1 1 1 1 1 1 1 1 1 0 1 1 1 0 1]\n",
      "(205,)\n"
     ]
    }
   ],
   "source": [
    "y_pred = model.predict(transformed_Xtest)\n",
    "print(y_pred)\n",
    "print(y_pred.shape)"
   ]
  },
  {
   "cell_type": "code",
   "execution_count": 27,
   "id": "79ca25ae",
   "metadata": {},
   "outputs": [],
   "source": [
    "from sklearn.metrics import mean_absolute_error\n",
    "from sklearn.metrics import mean_squared_error\n",
    "from sklearn.metrics import accuracy_score\n",
    "from sklearn.metrics import confusion_matrix\n",
    "from sklearn.metrics import roc_auc_score\n",
    "from sklearn.metrics import f1_score\n",
    "from sklearn.metrics import precision_score\n",
    "from sklearn.metrics import recall_score"
   ]
  },
  {
   "cell_type": "code",
   "execution_count": 28,
   "id": "c5ac3f25",
   "metadata": {},
   "outputs": [
    {
     "name": "stdout",
     "output_type": "stream",
     "text": [
      "[[ 12  86]\n",
      " [  6 101]]\n"
     ]
    },
    {
     "data": {
      "text/html": [
       "<div>\n",
       "<style scoped>\n",
       "    .dataframe tbody tr th:only-of-type {\n",
       "        vertical-align: middle;\n",
       "    }\n",
       "\n",
       "    .dataframe tbody tr th {\n",
       "        vertical-align: top;\n",
       "    }\n",
       "\n",
       "    .dataframe thead th {\n",
       "        text-align: right;\n",
       "    }\n",
       "</style>\n",
       "<table border=\"1\" class=\"dataframe\">\n",
       "  <thead>\n",
       "    <tr style=\"text-align: right;\">\n",
       "      <th>Predicted Result</th>\n",
       "      <th>0</th>\n",
       "      <th>1</th>\n",
       "    </tr>\n",
       "    <tr>\n",
       "      <th>Actual Result</th>\n",
       "      <th></th>\n",
       "      <th></th>\n",
       "    </tr>\n",
       "  </thead>\n",
       "  <tbody>\n",
       "    <tr>\n",
       "      <th>0</th>\n",
       "      <td>12</td>\n",
       "      <td>86</td>\n",
       "    </tr>\n",
       "    <tr>\n",
       "      <th>1</th>\n",
       "      <td>6</td>\n",
       "      <td>101</td>\n",
       "    </tr>\n",
       "  </tbody>\n",
       "</table>\n",
       "</div>"
      ],
      "text/plain": [
       "Predicted Result   0    1\n",
       "Actual Result            \n",
       "0                 12   86\n",
       "1                  6  101"
      ]
     },
     "execution_count": 28,
     "metadata": {},
     "output_type": "execute_result"
    }
   ],
   "source": [
    "# confusion matrix\n",
    "print(confusion_matrix(y_test, y_pred))\n",
    "\n",
    "pd.crosstab(y_test, y_pred, rownames=['Actual Result'], colnames=['Predicted Result']) "
   ]
  },
  {
   "cell_type": "code",
   "execution_count": 29,
   "id": "37e3ed46",
   "metadata": {},
   "outputs": [
    {
     "data": {
      "text/plain": [
       "0.551219512195122"
      ]
     },
     "execution_count": 29,
     "metadata": {},
     "output_type": "execute_result"
    }
   ],
   "source": [
    "# accuracy\n",
    "accuracy_score(y_test, y_pred)"
   ]
  },
  {
   "cell_type": "code",
   "execution_count": 30,
   "id": "fb83be3f",
   "metadata": {},
   "outputs": [
    {
     "data": {
      "text/plain": [
       "0.5401069518716578"
      ]
     },
     "execution_count": 30,
     "metadata": {},
     "output_type": "execute_result"
    }
   ],
   "source": [
    "# precision\n",
    "precision_score(y_test, y_pred)"
   ]
  },
  {
   "cell_type": "code",
   "execution_count": 31,
   "id": "399acadd",
   "metadata": {},
   "outputs": [
    {
     "data": {
      "text/plain": [
       "0.9439252336448598"
      ]
     },
     "execution_count": 31,
     "metadata": {},
     "output_type": "execute_result"
    }
   ],
   "source": [
    "# recall\n",
    "recall_score(y_test, y_pred)"
   ]
  },
  {
   "cell_type": "code",
   "execution_count": 32,
   "id": "930b022b",
   "metadata": {},
   "outputs": [
    {
     "data": {
      "text/plain": [
       "0.6870748299319728"
      ]
     },
     "execution_count": 32,
     "metadata": {},
     "output_type": "execute_result"
    }
   ],
   "source": [
    "# f1 score\n",
    "f1_score(y_test, y_pred)"
   ]
  },
  {
   "cell_type": "code",
   "execution_count": 33,
   "id": "d7aac12a",
   "metadata": {},
   "outputs": [
    {
     "data": {
      "text/plain": [
       "0.5331871066183482"
      ]
     },
     "execution_count": 33,
     "metadata": {},
     "output_type": "execute_result"
    }
   ],
   "source": [
    "# roc_auc_score\n",
    "roc_auc_score(y_test, y_pred)"
   ]
  },
  {
   "cell_type": "code",
   "execution_count": 34,
   "id": "edb11b2c",
   "metadata": {},
   "outputs": [
    {
     "data": {
      "text/plain": [
       "0.44878048780487806"
      ]
     },
     "execution_count": 34,
     "metadata": {},
     "output_type": "execute_result"
    }
   ],
   "source": [
    "# mean squared error\n",
    "mean_squared_error(y_test, y_pred)"
   ]
  },
  {
   "cell_type": "code",
   "execution_count": 35,
   "id": "0d95dcc8",
   "metadata": {},
   "outputs": [
    {
     "data": {
      "text/plain": [
       "0.44878048780487806"
      ]
     },
     "execution_count": 35,
     "metadata": {},
     "output_type": "execute_result"
    }
   ],
   "source": [
    "# mean absolute error\n",
    "mean_absolute_error(y_test, y_pred)"
   ]
  },
  {
   "cell_type": "code",
   "execution_count": null,
   "id": "93971be0",
   "metadata": {},
   "outputs": [],
   "source": []
  },
  {
   "cell_type": "code",
   "execution_count": null,
   "id": "55568359",
   "metadata": {},
   "outputs": [],
   "source": []
  }
 ],
 "metadata": {
  "kernelspec": {
   "display_name": "Python 3 (ipykernel)",
   "language": "python",
   "name": "python3"
  },
  "language_info": {
   "codemirror_mode": {
    "name": "ipython",
    "version": 3
   },
   "file_extension": ".py",
   "mimetype": "text/x-python",
   "name": "python",
   "nbconvert_exporter": "python",
   "pygments_lexer": "ipython3",
   "version": "3.9.12"
  }
 },
 "nbformat": 4,
 "nbformat_minor": 5
}
