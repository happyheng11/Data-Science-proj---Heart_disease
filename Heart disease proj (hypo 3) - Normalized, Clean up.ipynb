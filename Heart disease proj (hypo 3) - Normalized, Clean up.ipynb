{
 "cells": [
  {
   "cell_type": "code",
   "execution_count": 1,
   "id": "e38b280a",
   "metadata": {},
   "outputs": [
    {
     "name": "stdout",
     "output_type": "stream",
     "text": [
      "Pixiedust database opened successfully\n"
     ]
    },
    {
     "data": {
      "text/html": [
       "\n",
       "        <div style=\"margin:10px\">\n",
       "            <a href=\"https://github.com/ibm-watson-data-lab/pixiedust\" target=\"_new\">\n",
       "                <img src=\"https://github.com/ibm-watson-data-lab/pixiedust/raw/master/docs/_static/pd_icon32.png\" style=\"float:left;margin-right:10px\"/>\n",
       "            </a>\n",
       "            <span>Pixiedust version 1.1.19</span>\n",
       "        </div>\n",
       "        "
      ],
      "text/plain": [
       "<IPython.core.display.HTML object>"
      ]
     },
     "metadata": {},
     "output_type": "display_data"
    }
   ],
   "source": [
    "import pixiedust \n",
    "import sklearn \n",
    "import pandas as pd\n",
    "import numpy as np \n",
    "import seaborn as sns\n",
    "import matplotlib.pyplot as plt\n",
    "import xgboost"
   ]
  },
  {
   "cell_type": "code",
   "execution_count": 2,
   "id": "b580617d",
   "metadata": {},
   "outputs": [],
   "source": [
    "from sklearn.model_selection import train_test_split\n",
    "\n",
    "from sklearn.preprocessing import OneHotEncoder\n",
    "from sklearn.compose import make_column_transformer"
   ]
  },
  {
   "cell_type": "code",
   "execution_count": 3,
   "id": "f77ab601",
   "metadata": {},
   "outputs": [
    {
     "name": "stdout",
     "output_type": "stream",
     "text": [
      "Downloading 'https://raw.githubusercontent.com/happyheng11/Heart_disease_proj/main/preprocessed_heart.csv' from https://raw.githubusercontent.com/happyheng11/Heart_disease_proj/main/preprocessed_heart.csv\n",
      "Downloaded 67790 bytes\n",
      "Creating pandas DataFrame for 'https://raw.githubusercontent.com/happyheng11/Heart_disease_proj/main/preprocessed_heart.csv'. Please wait...\n",
      "Loading file using 'pandas'\n",
      "Successfully created pandas DataFrame for 'https://raw.githubusercontent.com/happyheng11/Heart_disease_proj/main/preprocessed_heart.csv'\n"
     ]
    }
   ],
   "source": [
    "df=pixiedust.sampleData('https://raw.githubusercontent.com/happyheng11/Heart_disease_proj/main/preprocessed_heart.csv')"
   ]
  },
  {
   "cell_type": "code",
   "execution_count": null,
   "id": "3a0fbd06",
   "metadata": {
    "pixiedust": {
     "displayParams": {
      "aggregation": "SUM",
      "chartsize": "70",
      "charttype": "subplots",
      "filter": "{}",
      "handlerId": "barChart",
      "keyFields": "exang,restecg,oldpeak,slope,thalach",
      "legend": "true",
      "no_margin": "true",
      "orientation": "vertical",
      "rowCount": "100",
      "sortby": "Keys ASC",
      "stretch": "true",
      "title": "chol,fbs,restbps"
     }
    },
    "scrolled": false
   },
   "outputs": [
    {
     "data": {
      "text/html": [
       "<style type=\"text/css\">.pd_warning{display:none;}</style><div class=\"pd_warning\"><em>Hey, there's something awesome here! To see it, open this notebook outside GitHub, in a viewer like Jupyter</em></div>\n",
       "        <div class=\"pd_save is-viewer-good\" style=\"padding-right:10px;text-align: center;line-height:initial !important;font-size: xx-large;font-weight: 500;color: coral;\">\n",
       "            chol,fbs,restbps\n",
       "        </div>\n",
       "    <div id=\"chartFigurea9a7ee46\" class=\"pd_save is-viewer-good\" style=\"overflow-x:auto\">\n",
       "            \n",
       "                    \n",
       "                            <center><img style=\"max-width:initial !important\" src=\"data:image/png;base64,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\" class=\"pd_save\"></center>\n",
       "                        \n",
       "                    \n",
       "                \n",
       "        </div>"
      ],
      "text/plain": [
       "<IPython.core.display.HTML object>"
      ]
     },
     "metadata": {},
     "output_type": "display_data"
    }
   ],
   "source": [
    "display(df)"
   ]
  },
  {
   "cell_type": "code",
   "execution_count": 6,
   "id": "ff6ef34e",
   "metadata": {},
   "outputs": [
    {
     "name": "stdout",
     "output_type": "stream",
     "text": [
      "      age  sex  cp  trestbps  chol  fbs  restecg  thalach  exang  oldpeak  \\\n",
      "0      52    1   0       125   212    0        1      168      0      1.0   \n",
      "1      53    1   0       140   203    1        0      155      1      3.1   \n",
      "2      70    1   0       145   174    0        1      125      1      2.6   \n",
      "3      61    1   0       148   203    0        1      161      0      0.0   \n",
      "4      62    0   0       138   294    1        1      106      0      1.9   \n",
      "...   ...  ...  ..       ...   ...  ...      ...      ...    ...      ...   \n",
      "1020   59    1   1       140   221    0        1      164      1      0.0   \n",
      "1021   60    1   0       125   258    0        0      141      1      2.8   \n",
      "1022   47    1   0       110   275    0        0      118      1      1.0   \n",
      "1023   50    0   0       110   254    0        0      159      0      0.0   \n",
      "1024   54    1   0       120   188    0        1      113      0      1.4   \n",
      "\n",
      "      ...  ca  thal  target       age group cp_True  trestbps_under_130   \\\n",
      "0     ...   2     3       0  50_TO_UNDER_60       0                    1   \n",
      "1     ...   0     3       0  50_TO_UNDER_60       0                    0   \n",
      "2     ...   0     3       0      70_&_ABOVE       0                    0   \n",
      "3     ...   1     3       0  60_TO_UNDER_70       0                    0   \n",
      "4     ...   3     2       0  60_TO_UNDER_70       0                    0   \n",
      "...   ...  ..   ...     ...             ...     ...                  ...   \n",
      "1020  ...   0     2       1  50_TO_UNDER_60       1                    0   \n",
      "1021  ...   1     3       0  60_TO_UNDER_70       0                    1   \n",
      "1022  ...   1     2       0  40_TO_UNDER_50       0                    1   \n",
      "1023  ...   0     2       1  50_TO_UNDER_60       0                    1   \n",
      "1024  ...   1     3       0  50_TO_UNDER_60       0                    1   \n",
      "\n",
      "      chol_under_200  chol_bps_fbs_HIGH  max_healthyHR  \\\n",
      "0                  0                  0            168   \n",
      "1                  0                  1            167   \n",
      "2                  1                  0            150   \n",
      "3                  0                  0            159   \n",
      "4                  0                  1            158   \n",
      "...              ...                ...            ...   \n",
      "1020               0                  0            161   \n",
      "1021               0                  0            160   \n",
      "1022               0                  0            173   \n",
      "1023               0                  0            170   \n",
      "1024               1                  0            166   \n",
      "\n",
      "      thalach_under_maxhealthHR  \n",
      "0                             1  \n",
      "1                             1  \n",
      "2                             1  \n",
      "3                             0  \n",
      "4                             1  \n",
      "...                         ...  \n",
      "1020                          0  \n",
      "1021                          1  \n",
      "1022                          1  \n",
      "1023                          1  \n",
      "1024                          1  \n",
      "\n",
      "[1025 rows x 21 columns]\n"
     ]
    }
   ],
   "source": [
    "path = 'https://raw.githubusercontent.com/happyheng11/Heart_disease_proj/main/preprocessed_heart.csv'\n",
    "df1 = pd.read_csv(path) \n",
    "print(df1)"
   ]
  },
  {
   "cell_type": "code",
   "execution_count": 7,
   "id": "c275bf3a",
   "metadata": {},
   "outputs": [
    {
     "data": {
      "text/plain": [
       "<AxesSubplot:xlabel='age', ylabel='Count'>"
      ]
     },
     "execution_count": 7,
     "metadata": {},
     "output_type": "execute_result"
    },
    {
     "data": {
      "image/png": "[encoded data removed]",
      "text/plain": [
       "<Figure size 720x432 with 1 Axes>"
      ]
     },
     "metadata": {
      "needs_background": "light"
     },
     "output_type": "display_data"
    }
   ],
   "source": [
    "# using seaborn to plot histogram for diff attributes - such as 'age' etc\n",
    "plt.figure(figsize = (10,6))\n",
    "sns.histplot(df1['age'], binwidth = 1)"
   ]
  },
  {
   "cell_type": "code",
   "execution_count": 8,
   "id": "7424cd59",
   "metadata": {},
   "outputs": [],
   "source": [
    "# make copy of df for modification\n",
    "dfcopy = df.copy()\n",
    "\n",
    "# remove target as y matrix from the dfcopy dataframe\n",
    "y = dfcopy.pop('target')\n",
    "\n",
    "# make remaining matrix as X\n",
    "X = dfcopy"
   ]
  },
  {
   "cell_type": "code",
   "execution_count": 9,
   "id": "267a3aa1",
   "metadata": {},
   "outputs": [
    {
     "name": "stdout",
     "output_type": "stream",
     "text": [
      "0    0\n",
      "1    0\n",
      "2    0\n",
      "3    0\n",
      "4    0\n",
      "Name: target, dtype: int64\n"
     ]
    }
   ],
   "source": [
    "print(y.head())"
   ]
  },
  {
   "cell_type": "code",
   "execution_count": 10,
   "id": "ff7bafff",
   "metadata": {},
   "outputs": [
    {
     "name": "stdout",
     "output_type": "stream",
     "text": [
      "   age  sex  cp  trestbps  chol  fbs  restecg  thalach  exang  oldpeak  slope  \\\n",
      "0   52    1   0       125   212    0        1      168      0      1.0      2   \n",
      "1   53    1   0       140   203    1        0      155      1      3.1      0   \n",
      "2   70    1   0       145   174    0        1      125      1      2.6      0   \n",
      "3   61    1   0       148   203    0        1      161      0      0.0      2   \n",
      "4   62    0   0       138   294    1        1      106      0      1.9      1   \n",
      "\n",
      "   ca  thal       age group  cp_True  trestbps_under_130   chol_under_200  \\\n",
      "0   2     3  50_TO_UNDER_60        0                    1               0   \n",
      "1   0     3  50_TO_UNDER_60        0                    0               0   \n",
      "2   0     3      70_&_ABOVE        0                    0               1   \n",
      "3   1     3  60_TO_UNDER_70        0                    0               0   \n",
      "4   3     2  60_TO_UNDER_70        0                    0               0   \n",
      "\n",
      "   chol_bps_fbs_HIGH  max_healthyHR  thalach_under_maxhealthHR  \n",
      "0                  0            168                          1  \n",
      "1                  1            167                          1  \n",
      "2                  0            150                          1  \n",
      "3                  0            159                          0  \n",
      "4                  1            158                          1  \n"
     ]
    }
   ],
   "source": [
    "print(X.head())"
   ]
  },
  {
   "cell_type": "code",
   "execution_count": 11,
   "id": "57ef88a6",
   "metadata": {},
   "outputs": [
    {
     "name": "stdout",
     "output_type": "stream",
     "text": [
      "(1025,)\n"
     ]
    }
   ],
   "source": [
    "print(y.shape)"
   ]
  },
  {
   "cell_type": "code",
   "execution_count": 12,
   "id": "dd7bbc16",
   "metadata": {},
   "outputs": [
    {
     "name": "stdout",
     "output_type": "stream",
     "text": [
      "(1025, 20)\n"
     ]
    }
   ],
   "source": [
    "print(X.shape)"
   ]
  },
  {
   "cell_type": "code",
   "execution_count": 13,
   "id": "50c8a4f7",
   "metadata": {},
   "outputs": [
    {
     "data": {
      "text/plain": [
       "age                            int64\n",
       "sex                            int64\n",
       "cp                             int64\n",
       "trestbps                       int64\n",
       "chol                           int64\n",
       "fbs                            int64\n",
       "restecg                        int64\n",
       "thalach                        int64\n",
       "exang                          int64\n",
       "oldpeak                      float64\n",
       "slope                          int64\n",
       "ca                             int64\n",
       "thal                           int64\n",
       "age group                     object\n",
       "cp_True                        int64\n",
       "trestbps_under_130             int64\n",
       "chol_under_200                 int64\n",
       "chol_bps_fbs_HIGH              int64\n",
       "max_healthyHR                  int64\n",
       "thalach_under_maxhealthHR      int64\n",
       "dtype: object"
      ]
     },
     "execution_count": 13,
     "metadata": {},
     "output_type": "execute_result"
    }
   ],
   "source": [
    "# look at the types for the diff columns\n",
    "X.dtypes"
   ]
  },
  {
   "cell_type": "code",
   "execution_count": 14,
   "id": "be90971c",
   "metadata": {},
   "outputs": [],
   "source": [
    "# perform scaling / normalization / standardization via running this cell, as necessary \n",
    "\n",
    "# min-max scaling:\n",
    "\n",
    "from sklearn.preprocessing import MinMaxScaler\n",
    "\n",
    "mms = MinMaxScaler()\n",
    "\n",
    "X[['age', 'trestbps', 'chol', 'thalach', 'oldpeak', 'slope', 'ca', 'thal', 'max_healthyHR']] = mms.fit_transform(X[['age', 'trestbps', 'chol', 'thalach', 'oldpeak', 'slope', 'ca', 'thal', 'max_healthyHR']])"
   ]
  },
  {
   "cell_type": "code",
   "execution_count": 15,
   "id": "2bfdd5e7",
   "metadata": {},
   "outputs": [
    {
     "data": {
      "text/html": [
       "<div>\n",
       "<style scoped>\n",
       "    .dataframe tbody tr th:only-of-type {\n",
       "        vertical-align: middle;\n",
       "    }\n",
       "\n",
       "    .dataframe tbody tr th {\n",
       "        vertical-align: top;\n",
       "    }\n",
       "\n",
       "    .dataframe thead th {\n",
       "        text-align: right;\n",
       "    }\n",
       "</style>\n",
       "<table border=\"1\" class=\"dataframe\">\n",
       "  <thead>\n",
       "    <tr style=\"text-align: right;\">\n",
       "      <th></th>\n",
       "      <th>age</th>\n",
       "      <th>sex</th>\n",
       "      <th>cp</th>\n",
       "      <th>trestbps</th>\n",
       "      <th>chol</th>\n",
       "      <th>fbs</th>\n",
       "      <th>restecg</th>\n",
       "      <th>thalach</th>\n",
       "      <th>exang</th>\n",
       "      <th>oldpeak</th>\n",
       "      <th>slope</th>\n",
       "      <th>ca</th>\n",
       "      <th>thal</th>\n",
       "      <th>age group</th>\n",
       "      <th>cp_True</th>\n",
       "      <th>trestbps_under_130</th>\n",
       "      <th>chol_under_200</th>\n",
       "      <th>chol_bps_fbs_HIGH</th>\n",
       "      <th>max_healthyHR</th>\n",
       "      <th>thalach_under_maxhealthHR</th>\n",
       "    </tr>\n",
       "  </thead>\n",
       "  <tbody>\n",
       "    <tr>\n",
       "      <th>0</th>\n",
       "      <td>0.479167</td>\n",
       "      <td>1</td>\n",
       "      <td>0</td>\n",
       "      <td>0.292453</td>\n",
       "      <td>0.196347</td>\n",
       "      <td>0</td>\n",
       "      <td>1</td>\n",
       "      <td>0.740458</td>\n",
       "      <td>0</td>\n",
       "      <td>0.161290</td>\n",
       "      <td>1.0</td>\n",
       "      <td>0.50</td>\n",
       "      <td>1.000000</td>\n",
       "      <td>50_TO_UNDER_60</td>\n",
       "      <td>0</td>\n",
       "      <td>1</td>\n",
       "      <td>0</td>\n",
       "      <td>0</td>\n",
       "      <td>0.520833</td>\n",
       "      <td>1</td>\n",
       "    </tr>\n",
       "    <tr>\n",
       "      <th>1</th>\n",
       "      <td>0.500000</td>\n",
       "      <td>1</td>\n",
       "      <td>0</td>\n",
       "      <td>0.433962</td>\n",
       "      <td>0.175799</td>\n",
       "      <td>1</td>\n",
       "      <td>0</td>\n",
       "      <td>0.641221</td>\n",
       "      <td>1</td>\n",
       "      <td>0.500000</td>\n",
       "      <td>0.0</td>\n",
       "      <td>0.00</td>\n",
       "      <td>1.000000</td>\n",
       "      <td>50_TO_UNDER_60</td>\n",
       "      <td>0</td>\n",
       "      <td>0</td>\n",
       "      <td>0</td>\n",
       "      <td>1</td>\n",
       "      <td>0.500000</td>\n",
       "      <td>1</td>\n",
       "    </tr>\n",
       "    <tr>\n",
       "      <th>2</th>\n",
       "      <td>0.854167</td>\n",
       "      <td>1</td>\n",
       "      <td>0</td>\n",
       "      <td>0.481132</td>\n",
       "      <td>0.109589</td>\n",
       "      <td>0</td>\n",
       "      <td>1</td>\n",
       "      <td>0.412214</td>\n",
       "      <td>1</td>\n",
       "      <td>0.419355</td>\n",
       "      <td>0.0</td>\n",
       "      <td>0.00</td>\n",
       "      <td>1.000000</td>\n",
       "      <td>70_&amp;_ABOVE</td>\n",
       "      <td>0</td>\n",
       "      <td>0</td>\n",
       "      <td>1</td>\n",
       "      <td>0</td>\n",
       "      <td>0.145833</td>\n",
       "      <td>1</td>\n",
       "    </tr>\n",
       "    <tr>\n",
       "      <th>3</th>\n",
       "      <td>0.666667</td>\n",
       "      <td>1</td>\n",
       "      <td>0</td>\n",
       "      <td>0.509434</td>\n",
       "      <td>0.175799</td>\n",
       "      <td>0</td>\n",
       "      <td>1</td>\n",
       "      <td>0.687023</td>\n",
       "      <td>0</td>\n",
       "      <td>0.000000</td>\n",
       "      <td>1.0</td>\n",
       "      <td>0.25</td>\n",
       "      <td>1.000000</td>\n",
       "      <td>60_TO_UNDER_70</td>\n",
       "      <td>0</td>\n",
       "      <td>0</td>\n",
       "      <td>0</td>\n",
       "      <td>0</td>\n",
       "      <td>0.333333</td>\n",
       "      <td>0</td>\n",
       "    </tr>\n",
       "    <tr>\n",
       "      <th>4</th>\n",
       "      <td>0.687500</td>\n",
       "      <td>0</td>\n",
       "      <td>0</td>\n",
       "      <td>0.415094</td>\n",
       "      <td>0.383562</td>\n",
       "      <td>1</td>\n",
       "      <td>1</td>\n",
       "      <td>0.267176</td>\n",
       "      <td>0</td>\n",
       "      <td>0.306452</td>\n",
       "      <td>0.5</td>\n",
       "      <td>0.75</td>\n",
       "      <td>0.666667</td>\n",
       "      <td>60_TO_UNDER_70</td>\n",
       "      <td>0</td>\n",
       "      <td>0</td>\n",
       "      <td>0</td>\n",
       "      <td>1</td>\n",
       "      <td>0.312500</td>\n",
       "      <td>1</td>\n",
       "    </tr>\n",
       "    <tr>\n",
       "      <th>...</th>\n",
       "      <td>...</td>\n",
       "      <td>...</td>\n",
       "      <td>...</td>\n",
       "      <td>...</td>\n",
       "      <td>...</td>\n",
       "      <td>...</td>\n",
       "      <td>...</td>\n",
       "      <td>...</td>\n",
       "      <td>...</td>\n",
       "      <td>...</td>\n",
       "      <td>...</td>\n",
       "      <td>...</td>\n",
       "      <td>...</td>\n",
       "      <td>...</td>\n",
       "      <td>...</td>\n",
       "      <td>...</td>\n",
       "      <td>...</td>\n",
       "      <td>...</td>\n",
       "      <td>...</td>\n",
       "      <td>...</td>\n",
       "    </tr>\n",
       "    <tr>\n",
       "      <th>1020</th>\n",
       "      <td>0.625000</td>\n",
       "      <td>1</td>\n",
       "      <td>1</td>\n",
       "      <td>0.433962</td>\n",
       "      <td>0.216895</td>\n",
       "      <td>0</td>\n",
       "      <td>1</td>\n",
       "      <td>0.709924</td>\n",
       "      <td>1</td>\n",
       "      <td>0.000000</td>\n",
       "      <td>1.0</td>\n",
       "      <td>0.00</td>\n",
       "      <td>0.666667</td>\n",
       "      <td>50_TO_UNDER_60</td>\n",
       "      <td>1</td>\n",
       "      <td>0</td>\n",
       "      <td>0</td>\n",
       "      <td>0</td>\n",
       "      <td>0.375000</td>\n",
       "      <td>0</td>\n",
       "    </tr>\n",
       "    <tr>\n",
       "      <th>1021</th>\n",
       "      <td>0.645833</td>\n",
       "      <td>1</td>\n",
       "      <td>0</td>\n",
       "      <td>0.292453</td>\n",
       "      <td>0.301370</td>\n",
       "      <td>0</td>\n",
       "      <td>0</td>\n",
       "      <td>0.534351</td>\n",
       "      <td>1</td>\n",
       "      <td>0.451613</td>\n",
       "      <td>0.5</td>\n",
       "      <td>0.25</td>\n",
       "      <td>1.000000</td>\n",
       "      <td>60_TO_UNDER_70</td>\n",
       "      <td>0</td>\n",
       "      <td>1</td>\n",
       "      <td>0</td>\n",
       "      <td>0</td>\n",
       "      <td>0.354167</td>\n",
       "      <td>1</td>\n",
       "    </tr>\n",
       "    <tr>\n",
       "      <th>1022</th>\n",
       "      <td>0.375000</td>\n",
       "      <td>1</td>\n",
       "      <td>0</td>\n",
       "      <td>0.150943</td>\n",
       "      <td>0.340183</td>\n",
       "      <td>0</td>\n",
       "      <td>0</td>\n",
       "      <td>0.358779</td>\n",
       "      <td>1</td>\n",
       "      <td>0.161290</td>\n",
       "      <td>0.5</td>\n",
       "      <td>0.25</td>\n",
       "      <td>0.666667</td>\n",
       "      <td>40_TO_UNDER_50</td>\n",
       "      <td>0</td>\n",
       "      <td>1</td>\n",
       "      <td>0</td>\n",
       "      <td>0</td>\n",
       "      <td>0.625000</td>\n",
       "      <td>1</td>\n",
       "    </tr>\n",
       "    <tr>\n",
       "      <th>1023</th>\n",
       "      <td>0.437500</td>\n",
       "      <td>0</td>\n",
       "      <td>0</td>\n",
       "      <td>0.150943</td>\n",
       "      <td>0.292237</td>\n",
       "      <td>0</td>\n",
       "      <td>0</td>\n",
       "      <td>0.671756</td>\n",
       "      <td>0</td>\n",
       "      <td>0.000000</td>\n",
       "      <td>1.0</td>\n",
       "      <td>0.00</td>\n",
       "      <td>0.666667</td>\n",
       "      <td>50_TO_UNDER_60</td>\n",
       "      <td>0</td>\n",
       "      <td>1</td>\n",
       "      <td>0</td>\n",
       "      <td>0</td>\n",
       "      <td>0.562500</td>\n",
       "      <td>1</td>\n",
       "    </tr>\n",
       "    <tr>\n",
       "      <th>1024</th>\n",
       "      <td>0.520833</td>\n",
       "      <td>1</td>\n",
       "      <td>0</td>\n",
       "      <td>0.245283</td>\n",
       "      <td>0.141553</td>\n",
       "      <td>0</td>\n",
       "      <td>1</td>\n",
       "      <td>0.320611</td>\n",
       "      <td>0</td>\n",
       "      <td>0.225806</td>\n",
       "      <td>0.5</td>\n",
       "      <td>0.25</td>\n",
       "      <td>1.000000</td>\n",
       "      <td>50_TO_UNDER_60</td>\n",
       "      <td>0</td>\n",
       "      <td>1</td>\n",
       "      <td>1</td>\n",
       "      <td>0</td>\n",
       "      <td>0.479167</td>\n",
       "      <td>1</td>\n",
       "    </tr>\n",
       "  </tbody>\n",
       "</table>\n",
       "<p>1025 rows × 20 columns</p>\n",
       "</div>"
      ],
      "text/plain": [
       "           age  sex  cp  trestbps      chol  fbs  restecg   thalach  exang  \\\n",
       "0     0.479167    1   0  0.292453  0.196347    0        1  0.740458      0   \n",
       "1     0.500000    1   0  0.433962  0.175799    1        0  0.641221      1   \n",
       "2     0.854167    1   0  0.481132  0.109589    0        1  0.412214      1   \n",
       "3     0.666667    1   0  0.509434  0.175799    0        1  0.687023      0   \n",
       "4     0.687500    0   0  0.415094  0.383562    1        1  0.267176      0   \n",
       "...        ...  ...  ..       ...       ...  ...      ...       ...    ...   \n",
       "1020  0.625000    1   1  0.433962  0.216895    0        1  0.709924      1   \n",
       "1021  0.645833    1   0  0.292453  0.301370    0        0  0.534351      1   \n",
       "1022  0.375000    1   0  0.150943  0.340183    0        0  0.358779      1   \n",
       "1023  0.437500    0   0  0.150943  0.292237    0        0  0.671756      0   \n",
       "1024  0.520833    1   0  0.245283  0.141553    0        1  0.320611      0   \n",
       "\n",
       "       oldpeak  slope    ca      thal       age group  cp_True  \\\n",
       "0     0.161290    1.0  0.50  1.000000  50_TO_UNDER_60        0   \n",
       "1     0.500000    0.0  0.00  1.000000  50_TO_UNDER_60        0   \n",
       "2     0.419355    0.0  0.00  1.000000      70_&_ABOVE        0   \n",
       "3     0.000000    1.0  0.25  1.000000  60_TO_UNDER_70        0   \n",
       "4     0.306452    0.5  0.75  0.666667  60_TO_UNDER_70        0   \n",
       "...        ...    ...   ...       ...             ...      ...   \n",
       "1020  0.000000    1.0  0.00  0.666667  50_TO_UNDER_60        1   \n",
       "1021  0.451613    0.5  0.25  1.000000  60_TO_UNDER_70        0   \n",
       "1022  0.161290    0.5  0.25  0.666667  40_TO_UNDER_50        0   \n",
       "1023  0.000000    1.0  0.00  0.666667  50_TO_UNDER_60        0   \n",
       "1024  0.225806    0.5  0.25  1.000000  50_TO_UNDER_60        0   \n",
       "\n",
       "      trestbps_under_130   chol_under_200  chol_bps_fbs_HIGH  max_healthyHR  \\\n",
       "0                       1               0                  0       0.520833   \n",
       "1                       0               0                  1       0.500000   \n",
       "2                       0               1                  0       0.145833   \n",
       "3                       0               0                  0       0.333333   \n",
       "4                       0               0                  1       0.312500   \n",
       "...                   ...             ...                ...            ...   \n",
       "1020                    0               0                  0       0.375000   \n",
       "1021                    1               0                  0       0.354167   \n",
       "1022                    1               0                  0       0.625000   \n",
       "1023                    1               0                  0       0.562500   \n",
       "1024                    1               1                  0       0.479167   \n",
       "\n",
       "      thalach_under_maxhealthHR  \n",
       "0                             1  \n",
       "1                             1  \n",
       "2                             1  \n",
       "3                             0  \n",
       "4                             1  \n",
       "...                         ...  \n",
       "1020                          0  \n",
       "1021                          1  \n",
       "1022                          1  \n",
       "1023                          1  \n",
       "1024                          1  \n",
       "\n",
       "[1025 rows x 20 columns]"
      ]
     },
     "execution_count": 15,
     "metadata": {},
     "output_type": "execute_result"
    }
   ],
   "source": [
    "X"
   ]
  },
  {
   "cell_type": "code",
   "execution_count": 16,
   "id": "5101e116",
   "metadata": {},
   "outputs": [
    {
     "name": "stdout",
     "output_type": "stream",
     "text": [
      "           age  sex  cp  trestbps      chol  fbs  restecg   thalach  exang  \\\n",
      "315   0.270833    1   3  0.509434  0.269406    0        0  0.816794      0   \n",
      "204   0.770833    0   2  0.490566  0.347032    0        0  0.618321      0   \n",
      "363   0.500000    1   2  0.339623  0.273973    1        0  0.778626      0   \n",
      "5     0.604167    0   0  0.056604  0.278539    0        0  0.389313      0   \n",
      "1017  0.500000    1   0  0.273585  0.356164    0        1  0.183206      1   \n",
      "...        ...  ...  ..       ...       ...  ...      ...       ...    ...   \n",
      "835   0.416667    1   2  0.226415  0.052511    0        0  0.419847      0   \n",
      "192   0.791667    0   2  0.198113  1.000000    0        0  0.679389      0   \n",
      "629   0.750000    1   3  0.415094  0.356164    1        0  0.786260      0   \n",
      "559   0.791667    1   0  0.245283  0.253425    0        1  0.000000      0   \n",
      "684   0.645833    1   2  0.433962  0.134703    0        0  0.641221      0   \n",
      "\n",
      "       oldpeak  slope    ca      thal       age group  cp_True  \\\n",
      "315   0.129032    1.0  0.50  0.666667  40_TO_UNDER_50        1   \n",
      "204   0.000000    0.5  0.25  0.666667  60_TO_UNDER_70        1   \n",
      "363   0.000000    1.0  0.75  0.666667  50_TO_UNDER_60        1   \n",
      "5     0.161290    0.5  0.00  0.666667  50_TO_UNDER_60        0   \n",
      "1017  0.322581    0.5  0.50  1.000000  50_TO_UNDER_60        0   \n",
      "...        ...    ...   ...       ...             ...      ...   \n",
      "835   0.129032    1.0  0.75  0.666667  40_TO_UNDER_50        1   \n",
      "192   0.258065    0.5  0.00  1.000000  60_TO_UNDER_70        1   \n",
      "629   0.225806    0.5  0.25  0.666667  60_TO_UNDER_70        1   \n",
      "559   0.161290    0.5  0.00  0.666667  60_TO_UNDER_70        0   \n",
      "684   0.483871    0.5  0.00  0.666667  60_TO_UNDER_70        1   \n",
      "\n",
      "      trestbps_under_130   chol_under_200  chol_bps_fbs_HIGH  max_healthyHR  \\\n",
      "315                     0               0                  0       0.729167   \n",
      "204                     0               0                  0       0.229167   \n",
      "363                     0               0                  1       0.500000   \n",
      "5                       1               0                  0       0.395833   \n",
      "1017                    1               0                  0       0.500000   \n",
      "...                   ...             ...                ...            ...   \n",
      "835                     1               1                  0       0.583333   \n",
      "192                     1               0                  0       0.208333   \n",
      "629                     0               0                  1       0.250000   \n",
      "559                     1               0                  0       0.208333   \n",
      "684                     0               1                  0       0.354167   \n",
      "\n",
      "      thalach_under_maxhealthHR  \n",
      "315                           1  \n",
      "204                           1  \n",
      "363                           0  \n",
      "5                             1  \n",
      "1017                          1  \n",
      "...                         ...  \n",
      "835                           1  \n",
      "192                           0  \n",
      "629                           0  \n",
      "559                           1  \n",
      "684                           1  \n",
      "\n",
      "[820 rows x 20 columns]\n",
      "          age  sex  cp  trestbps      chol  fbs  restecg   thalach  exang  \\\n",
      "807  0.312500    1   2  0.339623  0.244292    0        1  0.824427      1   \n",
      "27   0.604167    0   1  0.396226  0.440639    1        0  0.618321      0   \n",
      "77   0.708333    1   0  0.433962  0.139269    0        0  0.557252      1   \n",
      "406  0.604167    1   2  0.433962  0.194064    1        0  0.717557      0   \n",
      "886  0.666667    1   0  0.245283  0.305936    0        1  0.526718      1   \n",
      "..        ...  ...  ..       ...       ...  ...      ...       ...    ...   \n",
      "877  0.291667    0   2  0.264151  0.198630    0        1  0.717557      0   \n",
      "320  0.500000    0   0  0.339623  0.315068    0        0  0.549618      0   \n",
      "362  0.291667    0   2  0.264151  0.198630    0        1  0.717557      0   \n",
      "452  0.770833    0   0  0.792453  0.232877    1        1  0.717557      1   \n",
      "500  0.875000    0   0  0.169811  0.052511    0        1  0.412214      0   \n",
      "\n",
      "      oldpeak  slope    ca      thal       age group  cp_True  \\\n",
      "807  0.064516    1.0  0.00  0.666667  40_TO_UNDER_50        1   \n",
      "27   0.000000    1.0  0.50  0.666667  50_TO_UNDER_60        1   \n",
      "77   0.645161    1.0  0.50  1.000000  60_TO_UNDER_70        0   \n",
      "406  0.000000    1.0  0.00  0.666667  50_TO_UNDER_60        1   \n",
      "886  0.580645    0.5  0.25  1.000000  60_TO_UNDER_70        0   \n",
      "..        ...    ...   ...       ...             ...      ...   \n",
      "877  0.032258    0.5  0.00  0.666667  40_TO_UNDER_50        1   \n",
      "320  0.064516    0.5  0.00  0.666667  50_TO_UNDER_60        0   \n",
      "362  0.032258    0.5  0.00  0.666667  40_TO_UNDER_50        1   \n",
      "452  0.161290    0.5  0.50  1.000000  60_TO_UNDER_70        0   \n",
      "500  0.258065    0.5  0.00  0.666667      70_&_ABOVE        0   \n",
      "\n",
      "     trestbps_under_130   chol_under_200  chol_bps_fbs_HIGH  max_healthyHR  \\\n",
      "807                    0               0                  0       0.687500   \n",
      "27                     0               0                  1       0.395833   \n",
      "77                     0               1                  0       0.291667   \n",
      "406                    0               0                  1       0.395833   \n",
      "886                    1               0                  0       0.333333   \n",
      "..                   ...             ...                ...            ...   \n",
      "877                    1               0                  0       0.708333   \n",
      "320                    0               0                  0       0.500000   \n",
      "362                    1               0                  0       0.708333   \n",
      "452                    0               0                  1       0.229167   \n",
      "500                    1               1                  0       0.125000   \n",
      "\n",
      "     thalach_under_maxhealthHR  \n",
      "807                          0  \n",
      "27                           1  \n",
      "77                           1  \n",
      "406                          0  \n",
      "886                          1  \n",
      "..                         ...  \n",
      "877                          1  \n",
      "320                          1  \n",
      "362                          1  \n",
      "452                          0  \n",
      "500                          1  \n",
      "\n",
      "[205 rows x 20 columns]\n",
      "315     1\n",
      "204     1\n",
      "363     1\n",
      "5       1\n",
      "1017    0\n",
      "       ..\n",
      "835     0\n",
      "192     1\n",
      "629     0\n",
      "559     0\n",
      "684     0\n",
      "Name: target, Length: 820, dtype: int64\n",
      "807    1\n",
      "27     0\n",
      "77     0\n",
      "406    1\n",
      "886    0\n",
      "      ..\n",
      "877    1\n",
      "320    1\n",
      "362    1\n",
      "452    0\n",
      "500    1\n",
      "Name: target, Length: 205, dtype: int64\n"
     ]
    }
   ],
   "source": [
    "# split train test sets\n",
    "X_train, X_test, y_train, y_test = train_test_split(X, y, train_size=0.8, test_size=0.2, random_state=0)\n",
    "print(X_train)\n",
    "print(X_test)\n",
    "print(y_train)\n",
    "print(y_test)"
   ]
  },
  {
   "cell_type": "code",
   "execution_count": 17,
   "id": "c2a42f48",
   "metadata": {},
   "outputs": [
    {
     "name": "stdout",
     "output_type": "stream",
     "text": [
      "      restecg  exang   oldpeak  slope   thalach  thalach_under_maxhealthHR\n",
      "315         0      0  0.129032    1.0  0.816794                          1\n",
      "204         0      0  0.000000    0.5  0.618321                          1\n",
      "363         0      0  0.000000    1.0  0.778626                          0\n",
      "5           0      0  0.161290    0.5  0.389313                          1\n",
      "1017        1      1  0.322581    0.5  0.183206                          1\n",
      "...       ...    ...       ...    ...       ...                        ...\n",
      "835         0      0  0.129032    1.0  0.419847                          1\n",
      "192         0      0  0.258065    0.5  0.679389                          0\n",
      "629         0      0  0.225806    0.5  0.786260                          0\n",
      "559         1      0  0.161290    0.5  0.000000                          1\n",
      "684         0      0  0.483871    0.5  0.641221                          1\n",
      "\n",
      "[820 rows x 6 columns]\n",
      "     restecg  exang   oldpeak  slope   thalach  thalach_under_maxhealthHR\n",
      "807        1      1  0.064516    1.0  0.824427                          0\n",
      "27         0      0  0.000000    1.0  0.618321                          1\n",
      "77         0      1  0.645161    1.0  0.557252                          1\n",
      "406        0      0  0.000000    1.0  0.717557                          0\n",
      "886        1      1  0.580645    0.5  0.526718                          1\n",
      "..       ...    ...       ...    ...       ...                        ...\n",
      "877        1      0  0.032258    0.5  0.717557                          1\n",
      "320        0      0  0.064516    0.5  0.549618                          1\n",
      "362        1      0  0.032258    0.5  0.717557                          1\n",
      "452        1      1  0.161290    0.5  0.717557                          0\n",
      "500        1      0  0.258065    0.5  0.412214                          1\n",
      "\n",
      "[205 rows x 6 columns]\n"
     ]
    }
   ],
   "source": [
    "# select the columns that you want in the transformed_Xtrain and transformed_Xtest\n",
    "transformed_Xtrain = X_train[['restecg', 'exang', 'oldpeak', 'slope', 'thalach', 'thalach_under_maxhealthHR']]\n",
    "transformed_Xtest = X_test[['restecg', 'exang', 'oldpeak', 'slope', 'thalach', 'thalach_under_maxhealthHR']]\n",
    "\n",
    "print(transformed_Xtrain)\n",
    "print(transformed_Xtest)"
   ]
  },
  {
   "cell_type": "code",
   "execution_count": 18,
   "id": "5cbc015a",
   "metadata": {},
   "outputs": [
    {
     "data": {
      "text/plain": [
       "SVC()"
      ]
     },
     "execution_count": 18,
     "metadata": {},
     "output_type": "execute_result"
    }
   ],
   "source": [
    "# select the type of model\n",
    "# Uncomment the lines of code for the model that you want to select\n",
    "\n",
    "from xgboost import XGBRegressor\n",
    "from xgboost import XGBClassifier\n",
    "from sklearn.ensemble import RandomForestClassifier\n",
    "from sklearn.ensemble import RandomForestRegressor\n",
    "from sklearn import svm\n",
    "from sklearn.neighbors import KNeighborsClassifier\n",
    "from sklearn.linear_model import LogisticRegression\n",
    "\n",
    "'''\n",
    "# XGBoost Regressor (for regression use - ie. quantitative)\n",
    "#model = XGBRegressor()\n",
    "\n",
    "# XGBoost Classifier\n",
    "model = XGBClassifier()\n",
    "\n",
    "\n",
    "# Random Forest Classifier\n",
    "#model = RandomForestClassifier()\n",
    "\n",
    "# Random Forest Regressor (for regression use - ie. quantitative)\n",
    "#model = RandomForestRegressor()\n",
    "'''\n",
    "\n",
    "# SVC\n",
    "model = svm.SVC()\n",
    "\n",
    "'''\n",
    "# K Nearest Neighbors Classifier \n",
    "#model = KNeighborsClassifier(n_neighbors=1)\n",
    "\n",
    "# Logistic Regression\n",
    "#model = LogisticRegression()\n",
    "\n",
    "# for single feature in transformed_X, it needs to be reshaped for the model to work\n",
    "#transformed_Xtrain = transformed_Xtrain.values.reshape(-1,1)\n",
    "#transformed_Xtest = transformed_Xtest.values.reshape(-1,1)\n",
    "'''\n",
    "\n",
    "\n",
    "model.fit(transformed_Xtrain, y_train)"
   ]
  },
  {
   "cell_type": "code",
   "execution_count": 19,
   "id": "90b894d5",
   "metadata": {},
   "outputs": [
    {
     "name": "stdout",
     "output_type": "stream",
     "text": [
      "[0 1 0 1 0 0 1 0 0 1 1 0 0 1 1 1 1 0 1 0 1 1 1 1 1 1 1 0 1 1 1 0 0 0 0 0 0\n",
      " 0 1 1 1 1 1 1 1 1 1 1 0 0 1 0 1 1 0 0 0 0 0 1 1 0 1 1 0 0 0 1 1 1 1 1 1 0\n",
      " 0 0 0 1 0 0 1 1 0 1 0 0 1 0 1 0 0 0 1 0 1 1 1 0 1 1 1 0 1 0 0 1 0 1 0 1 1\n",
      " 0 1 0 1 0 1 0 0 0 0 1 1 0 1 1 1 1 1 0 0 0 1 1 1 0 0 1 0 1 0 0 0 0 0 1 0 0\n",
      " 1 1 1 0 1 0 0 0 1 1 0 0 0 1 1 0 1 1 1 1 1 1 1 1 1 0 1 1 1 1 1 0 0 0 0 0 1\n",
      " 0 1 0 1 0 0 1 0 1 0 1 1 1 1 0 1 1 1 0 0]\n",
      "(205,)\n"
     ]
    }
   ],
   "source": [
    "y_pred = model.predict(transformed_Xtest)\n",
    "print(y_pred)\n",
    "print(y_pred.shape)"
   ]
  },
  {
   "cell_type": "code",
   "execution_count": 20,
   "id": "79ca25ae",
   "metadata": {},
   "outputs": [],
   "source": [
    "from sklearn.metrics import mean_absolute_error\n",
    "from sklearn.metrics import mean_squared_error\n",
    "from sklearn.metrics import accuracy_score\n",
    "from sklearn.metrics import confusion_matrix\n",
    "from sklearn.metrics import roc_auc_score\n",
    "from sklearn.metrics import f1_score\n",
    "from sklearn.metrics import precision_score\n",
    "from sklearn.metrics import recall_score"
   ]
  },
  {
   "cell_type": "code",
   "execution_count": 21,
   "id": "c5ac3f25",
   "metadata": {},
   "outputs": [
    {
     "name": "stdout",
     "output_type": "stream",
     "text": [
      "[[77 21]\n",
      " [17 90]]\n"
     ]
    },
    {
     "data": {
      "text/html": [
       "<div>\n",
       "<style scoped>\n",
       "    .dataframe tbody tr th:only-of-type {\n",
       "        vertical-align: middle;\n",
       "    }\n",
       "\n",
       "    .dataframe tbody tr th {\n",
       "        vertical-align: top;\n",
       "    }\n",
       "\n",
       "    .dataframe thead th {\n",
       "        text-align: right;\n",
       "    }\n",
       "</style>\n",
       "<table border=\"1\" class=\"dataframe\">\n",
       "  <thead>\n",
       "    <tr style=\"text-align: right;\">\n",
       "      <th>Predicted Result</th>\n",
       "      <th>0</th>\n",
       "      <th>1</th>\n",
       "    </tr>\n",
       "    <tr>\n",
       "      <th>Actual Result</th>\n",
       "      <th></th>\n",
       "      <th></th>\n",
       "    </tr>\n",
       "  </thead>\n",
       "  <tbody>\n",
       "    <tr>\n",
       "      <th>0</th>\n",
       "      <td>77</td>\n",
       "      <td>21</td>\n",
       "    </tr>\n",
       "    <tr>\n",
       "      <th>1</th>\n",
       "      <td>17</td>\n",
       "      <td>90</td>\n",
       "    </tr>\n",
       "  </tbody>\n",
       "</table>\n",
       "</div>"
      ],
      "text/plain": [
       "Predicted Result   0   1\n",
       "Actual Result           \n",
       "0                 77  21\n",
       "1                 17  90"
      ]
     },
     "execution_count": 21,
     "metadata": {},
     "output_type": "execute_result"
    }
   ],
   "source": [
    "# confusion matrix\n",
    "print(confusion_matrix(y_test, y_pred))\n",
    "\n",
    "pd.crosstab(y_test, y_pred, rownames=['Actual Result'], colnames=['Predicted Result']) "
   ]
  },
  {
   "cell_type": "code",
   "execution_count": 22,
   "id": "37e3ed46",
   "metadata": {},
   "outputs": [
    {
     "data": {
      "text/plain": [
       "0.8146341463414634"
      ]
     },
     "execution_count": 22,
     "metadata": {},
     "output_type": "execute_result"
    }
   ],
   "source": [
    "# accuracy\n",
    "accuracy_score(y_test, y_pred)"
   ]
  },
  {
   "cell_type": "code",
   "execution_count": 23,
   "id": "fb83be3f",
   "metadata": {},
   "outputs": [
    {
     "data": {
      "text/plain": [
       "0.8108108108108109"
      ]
     },
     "execution_count": 23,
     "metadata": {},
     "output_type": "execute_result"
    }
   ],
   "source": [
    "# precision\n",
    "precision_score(y_test, y_pred)"
   ]
  },
  {
   "cell_type": "code",
   "execution_count": 24,
   "id": "399acadd",
   "metadata": {},
   "outputs": [
    {
     "data": {
      "text/plain": [
       "0.8411214953271028"
      ]
     },
     "execution_count": 24,
     "metadata": {},
     "output_type": "execute_result"
    }
   ],
   "source": [
    "# recall\n",
    "recall_score(y_test, y_pred)"
   ]
  },
  {
   "cell_type": "code",
   "execution_count": 25,
   "id": "930b022b",
   "metadata": {},
   "outputs": [
    {
     "data": {
      "text/plain": [
       "0.8256880733944955"
      ]
     },
     "execution_count": 25,
     "metadata": {},
     "output_type": "execute_result"
    }
   ],
   "source": [
    "# f1 score\n",
    "f1_score(y_test, y_pred)"
   ]
  },
  {
   "cell_type": "code",
   "execution_count": 26,
   "id": "d7aac12a",
   "metadata": {},
   "outputs": [
    {
     "data": {
      "text/plain": [
       "0.8134178905206941"
      ]
     },
     "execution_count": 26,
     "metadata": {},
     "output_type": "execute_result"
    }
   ],
   "source": [
    "# roc_auc_score\n",
    "roc_auc_score(y_test, y_pred)"
   ]
  },
  {
   "cell_type": "code",
   "execution_count": 27,
   "id": "edb11b2c",
   "metadata": {},
   "outputs": [
    {
     "data": {
      "text/plain": [
       "0.18536585365853658"
      ]
     },
     "execution_count": 27,
     "metadata": {},
     "output_type": "execute_result"
    }
   ],
   "source": [
    "# mean squared error\n",
    "mean_squared_error(y_test, y_pred)"
   ]
  },
  {
   "cell_type": "code",
   "execution_count": 28,
   "id": "0d95dcc8",
   "metadata": {},
   "outputs": [
    {
     "data": {
      "text/plain": [
       "0.18536585365853658"
      ]
     },
     "execution_count": 28,
     "metadata": {},
     "output_type": "execute_result"
    }
   ],
   "source": [
    "# mean absolute error\n",
    "mean_absolute_error(y_test, y_pred)"
   ]
  },
  {
   "cell_type": "code",
   "execution_count": null,
   "id": "93971be0",
   "metadata": {},
   "outputs": [],
   "source": []
  },
  {
   "cell_type": "code",
   "execution_count": null,
   "id": "55568359",
   "metadata": {},
   "outputs": [],
   "source": []
  }
 ],
 "metadata": {
  "kernelspec": {
   "display_name": "Python 3 (ipykernel)",
   "language": "python",
   "name": "python3"
  },
  "language_info": {
   "codemirror_mode": {
    "name": "ipython",
    "version": 3
   },
   "file_extension": ".py",
   "mimetype": "text/x-python",
   "name": "python",
   "nbconvert_exporter": "python",
   "pygments_lexer": "ipython3",
   "version": "3.9.12"
  }
 },
 "nbformat": 4,
 "nbformat_minor": 5
}
